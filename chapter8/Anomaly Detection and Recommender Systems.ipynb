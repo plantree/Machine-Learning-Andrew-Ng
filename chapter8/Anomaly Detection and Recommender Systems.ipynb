{
 "cells": [
  {
   "cell_type": "markdown",
   "metadata": {},
   "source": [
    "这一章有两个部分，一个是利用异常检测算法识别网络中不工作的服务器，另外一个是利用“协同过滤”算法构造一个电影的推荐系统。"
   ]
  },
  {
   "cell_type": "markdown",
   "metadata": {},
   "source": [
    "## 1. Anomaly Detection"
   ]
  },
  {
   "cell_type": "code",
   "execution_count": 1,
   "metadata": {
    "collapsed": true
   },
   "outputs": [],
   "source": [
    "import matplotlib.pyplot as plt\n",
    "import numpy as np\n",
    "import pandas as pd\n",
    "from scipy.io import loadmat "
   ]
  },
  {
   "cell_type": "code",
   "execution_count": 92,
   "metadata": {},
   "outputs": [
    {
     "data": {
      "text/plain": [
       "array([[ 13.04681517,  14.74115241],\n",
       "       [ 13.40852019,  13.7632696 ],\n",
       "       [ 14.19591481,  15.85318113],\n",
       "       [ 14.91470077,  16.17425987],\n",
       "       [ 13.57669961,  14.04284944],\n",
       "       [ 13.92240251,  13.40646894],\n",
       "       [ 12.82213164,  14.22318782],\n",
       "       [ 15.67636615,  15.89169137],\n",
       "       [ 16.16287532,  16.20299807],\n",
       "       [ 12.66645095,  14.89908374],\n",
       "       [ 13.98454962,  12.95800822],\n",
       "       [ 14.06146043,  14.54908874],\n",
       "       [ 13.38988671,  15.56202142],\n",
       "       [ 13.39350475,  15.62698794],\n",
       "       [ 13.97900926,  13.28061494],\n",
       "       [ 14.16791259,  14.46583829],\n",
       "       [ 13.96176145,  14.75182421],\n",
       "       [ 14.45899735,  15.07018563],\n",
       "       [ 14.58476372,  15.82743424],\n",
       "       [ 12.07427074,  13.0671109 ],\n",
       "       [ 13.5491294 ,  15.53827677],\n",
       "       [ 13.98625042,  14.78776304],\n",
       "       [ 14.96991942,  16.51830493],\n",
       "       [ 14.25576597,  15.29427277],\n",
       "       [ 15.33425   ,  16.12469989],\n",
       "       [ 15.6350487 ,  16.49094477],\n",
       "       [ 13.62081292,  15.45947525],\n",
       "       [ 14.81548485,  15.33956527],\n",
       "       [ 14.59318973,  14.61238106],\n",
       "       [ 14.48906755,  15.64087368],\n",
       "       [ 15.52704801,  14.63568031],\n",
       "       [ 13.97506707,  14.76531533],\n",
       "       [ 12.95364954,  14.82328512],\n",
       "       [ 12.88787444,  15.0760781 ],\n",
       "       [ 16.02178961,  16.25746992],\n",
       "       [ 14.92629271,  16.29725072],\n",
       "       [ 12.465594  ,  14.18321212],\n",
       "       [ 14.08466278,  14.44192203],\n",
       "       [ 14.53717523,  14.24224248],\n",
       "       [ 14.22250852,  15.42386188],\n",
       "       [ 14.51908496,  13.99871699],\n",
       "       [ 13.11971434,  14.66081846],\n",
       "       [ 14.51088894,  15.30465149],\n",
       "       [ 14.18262426,  15.39388968],\n",
       "       [ 14.71651845,  15.73369667],\n",
       "       [ 13.834547  ,  16.17138034],\n",
       "       [ 16.00076179,  14.6923297 ],\n",
       "       [ 14.12702715,  15.91462775],\n",
       "       [ 13.84578547,  14.34139349],\n",
       "       [ 15.4142611 ,  16.24243182],\n",
       "       [ 13.25273727,  15.00861364],\n",
       "       [ 13.66840226,  14.35886036],\n",
       "       [ 13.77534774,  14.73808512],\n",
       "       [ 14.12582343,  14.92980923],\n",
       "       [ 14.54724604,  15.63339445],\n",
       "       [ 14.15258077,  14.53622697],\n",
       "       [ 14.12648161,  15.34467591],\n",
       "       [ 14.26324658,  14.98556918],\n",
       "       [ 14.77324332,  15.25299474],\n",
       "       [ 14.20969934,  16.14572569],\n",
       "       [ 13.26065515,  15.48016214],\n",
       "       [ 14.25273351,  15.03134361],\n",
       "       [ 12.92124447,  13.1932154 ],\n",
       "       [ 13.85243129,  13.33213111],\n",
       "       [ 13.968568  ,  13.19821237],\n",
       "       [ 13.25206982,  15.3684639 ],\n",
       "       [ 13.70449634,  13.21431302],\n",
       "       [ 14.50874721,  15.46051652],\n",
       "       [ 15.69042696,  16.48168852],\n",
       "       [ 12.95598192,  12.43703006],\n",
       "       [ 13.59312604,  14.84189903],\n",
       "       [ 15.12874639,  17.14981223],\n",
       "       [ 14.26705037,  15.67551974],\n",
       "       [ 15.66145055,  14.81146451],\n",
       "       [ 14.33962673,  15.49202298],\n",
       "       [ 14.27617655,  14.70590693],\n",
       "       [ 14.86049072,  15.59000779],\n",
       "       [ 14.1041448 ,  15.18050456],\n",
       "       [ 15.98828286,  15.62105187],\n",
       "       [ 13.47473583,  15.59307142],\n",
       "       [ 13.77637601,  14.99194427],\n",
       "       [ 12.82770875,  15.67136907],\n",
       "       [ 13.67165486,  15.11954159],\n",
       "       [ 15.38704284,  15.56936935],\n",
       "       [ 15.54320934,  15.5154315 ],\n",
       "       [ 13.85306094,  15.60672437],\n",
       "       [ 13.62525246,  14.45209463],\n",
       "       [ 15.01577844,  14.91664093],\n",
       "       [ 13.83645753,  15.24940725],\n",
       "       [ 14.22694439,  14.34798436],\n",
       "       [ 13.23742625,  14.61058751],\n",
       "       [ 13.38482919,  14.7331933 ],\n",
       "       [ 13.87130103,  14.97399469],\n",
       "       [ 12.39445847,  14.64448217],\n",
       "       [ 14.32186558,  14.52890629],\n",
       "       [ 15.82965092,  15.71619455],\n",
       "       [ 15.80177302,  16.01808914],\n",
       "       [ 14.697512  ,  14.11198749],\n",
       "       [ 14.70598657,  16.46040295],\n",
       "       [ 13.5915686 ,  14.91975097],\n",
       "       [ 12.29984539,  14.77119468],\n",
       "       [ 13.39904748,  16.11912911],\n",
       "       [ 15.1311287 ,  15.9003113 ],\n",
       "       [ 15.38581198,  15.71453967],\n",
       "       [ 15.45487422,  15.44042242],\n",
       "       [ 13.74951531,  15.26803136],\n",
       "       [ 15.69914333,  16.05595815],\n",
       "       [ 14.80580491,  14.33258926],\n",
       "       [ 15.17222943,  16.70624398],\n",
       "       [ 11.24915512,  15.13295896],\n",
       "       [ 13.88773907,  14.48548132],\n",
       "       [ 15.32587018,  16.58524064],\n",
       "       [ 12.97517063,  15.16056771],\n",
       "       [ 14.07427781,  17.21973519],\n",
       "       [ 14.18202564,  17.83351945],\n",
       "       [ 12.23970014,  14.72866834],\n",
       "       [ 14.82555961,  15.94500685],\n",
       "       [ 13.09763368,  16.230365  ],\n",
       "       [ 13.85758878,  15.03526838],\n",
       "       [ 15.52502523,  16.78653608],\n",
       "       [ 15.31499528,  14.56835428],\n",
       "       [ 14.03034874,  15.66336188],\n",
       "       [ 14.42312995,  14.94109335],\n",
       "       [ 13.63615119,  14.96411634],\n",
       "       [ 14.53477943,  13.35611764],\n",
       "       [ 14.61566224,  14.15241035],\n",
       "       [ 13.08085544,  14.02845941],\n",
       "       [ 14.93928678,  14.54933746],\n",
       "       [ 16.02712663,  15.7096583 ],\n",
       "       [ 14.31925037,  15.11762658],\n",
       "       [ 14.86153307,  14.28458412],\n",
       "       [ 14.01432033,  16.77971266],\n",
       "       [ 13.4076547 ,  14.60041191],\n",
       "       [ 13.07959732,  14.19389917],\n",
       "       [ 12.68820689,  13.81109597],\n",
       "       [ 14.19232757,  15.36498179],\n",
       "       [ 14.86589365,  14.4713879 ],\n",
       "       [ 13.39350298,  14.34389893],\n",
       "       [ 13.58659143,  14.39148496],\n",
       "       [ 13.1021929 ,  14.3760326 ],\n",
       "       [ 14.54176556,  16.37233995],\n",
       "       [ 14.25602703,  15.0423495 ],\n",
       "       [ 16.1875476 ,  16.36145254],\n",
       "       [ 13.63292363,  13.62886894],\n",
       "       [ 14.65349335,  14.97649221],\n",
       "       [ 12.619118  ,  16.77214314],\n",
       "       [ 13.0342773 ,  14.25689091],\n",
       "       [ 10.85940052,  14.47914434],\n",
       "       [ 12.93486071,  14.60746678],\n",
       "       [ 13.99226766,  14.96212808],\n",
       "       [ 12.57248704,  15.1972735 ],\n",
       "       [ 15.68266703,  16.22123922],\n",
       "       [ 13.21258152,  14.35182737],\n",
       "       [ 13.98975002,  14.5244565 ],\n",
       "       [ 13.46626641,  13.65765529],\n",
       "       [ 13.13166385,  15.79882584],\n",
       "       [ 14.35439255,  15.02329268],\n",
       "       [ 13.55329411,  13.73218769],\n",
       "       [ 12.98628429,  14.80983707],\n",
       "       [ 14.37264883,  14.95148191],\n",
       "       [ 13.5886905 ,  15.19778175],\n",
       "       [ 12.26002252,  15.61364104],\n",
       "       [ 13.66602494,  16.44517365],\n",
       "       [ 14.34554567,  15.44883765],\n",
       "       [ 14.60667498,  15.77655361],\n",
       "       [ 14.15369524,  16.57440586],\n",
       "       [ 14.04899502,  14.39078838],\n",
       "       [ 14.06857464,  14.62364257],\n",
       "       [ 15.88890082,  16.33705609],\n",
       "       [ 13.9760142 ,  15.84206443],\n",
       "       [ 10.88221341,  13.46166188],\n",
       "       [ 13.90920312,  14.97657577],\n",
       "       [ 12.36776146,  15.14204982],\n",
       "       [ 15.16765639,  15.51933857],\n",
       "       [ 15.33769517,  14.23319145],\n",
       "       [ 13.5505769 ,  15.73044061],\n",
       "       [ 13.57918657,  15.47264441],\n",
       "       [ 14.2447909 ,  15.08509119],\n",
       "       [ 15.33086297,  15.71142599],\n",
       "       [ 15.91714893,  15.15651433],\n",
       "       [ 13.85421254,  15.32125758],\n",
       "       [ 14.08736591,  14.30728374],\n",
       "       [ 12.63610997,  15.65066102],\n",
       "       [ 14.36282756,  13.87195409],\n",
       "       [ 14.50066606,  14.61759025],\n",
       "       [ 13.96984547,  16.17341605],\n",
       "       [ 15.13133128,  15.28924849],\n",
       "       [ 15.15300231,  14.0136283 ],\n",
       "       [ 13.31011939,  14.39060275],\n",
       "       [ 14.25712173,  14.29705004],\n",
       "       [ 13.71613135,  13.5273347 ],\n",
       "       [ 15.70094058,  15.99611429],\n",
       "       [ 13.38943515,  14.36513423],\n",
       "       [ 14.14088666,  13.97440554],\n",
       "       [ 14.8448705 ,  14.01695106],\n",
       "       [ 12.7048959 ,  14.27293037],\n",
       "       [ 14.95353525,  14.73218902],\n",
       "       [ 14.28114118,  14.61262378],\n",
       "       [ 13.06799074,  14.83286345],\n",
       "       [ 13.602797  ,  12.20295199],\n",
       "       [ 12.68816488,  15.81141681],\n",
       "       [ 13.88291728,  14.1180837 ],\n",
       "       [ 14.01648222,  14.33509982],\n",
       "       [ 15.3657655 ,  15.82610475],\n",
       "       [ 13.57764756,  14.88045533],\n",
       "       [ 13.39189242,  14.34497756],\n",
       "       [ 13.6936209 ,  15.9218994 ],\n",
       "       [ 12.87853442,  13.2017448 ],\n",
       "       [ 13.69916365,  15.4180007 ],\n",
       "       [ 14.01609081,  15.82165925],\n",
       "       [ 14.58996505,  16.38090675],\n",
       "       [ 15.00784342,  15.50954334],\n",
       "       [ 14.05950746,  13.75788684],\n",
       "       [ 14.46114684,  13.34425721],\n",
       "       [ 14.64474777,  15.03905866],\n",
       "       [ 13.85478898,  15.86614261],\n",
       "       [ 14.28141751,  14.02340696],\n",
       "       [ 14.93304554,  14.32639552],\n",
       "       [ 13.76930807,  16.5131053 ],\n",
       "       [ 13.44404345,  15.07922663],\n",
       "       [ 14.03179286,  14.40986664],\n",
       "       [ 13.8194684 ,  15.58676798],\n",
       "       [ 16.50656641,  15.22029747],\n",
       "       [ 12.20423231,  14.32106065],\n",
       "       [ 14.88192989,  16.36162231],\n",
       "       [ 15.16031   ,  15.14972042],\n",
       "       [ 11.78759609,  14.55034169],\n",
       "       [ 12.88388298,  14.57250348],\n",
       "       [ 13.62023706,  16.4236925 ],\n",
       "       [ 14.53049363,  15.44664319],\n",
       "       [ 12.64616608,  15.10838775],\n",
       "       [ 15.54763373,  16.43238821],\n",
       "       [ 14.40076998,  15.21258204],\n",
       "       [ 15.2105839 ,  14.93547994],\n",
       "       [ 15.0617344 ,  15.11740666],\n",
       "       [ 14.8621459 ,  14.70177771],\n",
       "       [ 15.40451989,  15.34490712],\n",
       "       [ 13.79430575,  14.68727111],\n",
       "       [ 14.63390272,  16.30082804],\n",
       "       [ 12.45687581,  15.54617986],\n",
       "       [ 13.99759773,  16.73594542],\n",
       "       [ 12.93253734,  12.62389977],\n",
       "       [ 13.70345191,  14.71480993],\n",
       "       [ 13.12395594,  15.44848981],\n",
       "       [ 13.81691009,  14.09233539],\n",
       "       [ 13.02489337,  14.25050252],\n",
       "       [ 14.53425535,  15.76596517],\n",
       "       [ 13.2518626 ,  16.32252319],\n",
       "       [ 13.23657555,  15.3369661 ],\n",
       "       [ 12.12971316,  12.66688846],\n",
       "       [ 14.38088736,  16.03087165],\n",
       "       [ 15.98239722,  15.52399453],\n",
       "       [ 13.7510791 ,  13.64320738],\n",
       "       [ 13.35730012,  13.42431786],\n",
       "       [ 13.0855909 ,  14.86775906],\n",
       "       [ 13.61173302,  14.86806414],\n",
       "       [ 15.17761737,  14.15354188],\n",
       "       [ 14.15456589,  15.28746898],\n",
       "       [ 13.22531906,  13.9598547 ],\n",
       "       [ 13.94151501,  14.76023193],\n",
       "       [ 15.39066479,  15.71412823],\n",
       "       [ 13.17642607,  13.67395694],\n",
       "       [ 13.38689006,  14.66536822],\n",
       "       [ 15.15888821,  14.78211271],\n",
       "       [ 14.55599225,  14.04946256],\n",
       "       [ 14.62692886,  14.29592015],\n",
       "       [ 13.28624407,  15.65812607],\n",
       "       [ 13.81548235,  14.17169431],\n",
       "       [ 14.31098964,  16.2541906 ],\n",
       "       [ 13.53597112,  15.77020127],\n",
       "       [ 14.80103055,  13.8181314 ],\n",
       "       [ 13.77274486,  14.64955361],\n",
       "       [ 13.76510157,  15.02311287],\n",
       "       [ 14.05349836,  13.93946896],\n",
       "       [ 15.3090539 ,  16.04190605],\n",
       "       [ 13.15523771,  16.92122117],\n",
       "       [ 12.69940391,  13.99916734],\n",
       "       [ 14.36799225,  16.75782354],\n",
       "       [ 13.26325419,  14.09898706],\n",
       "       [ 11.91253509,  14.61325734],\n",
       "       [ 13.37000592,  15.18268143],\n",
       "       [ 15.99450697,  15.45329383],\n",
       "       [ 14.15764861,  13.77083847],\n",
       "       [ 14.96982662,  15.59222553],\n",
       "       [ 14.75068711,  15.46889188],\n",
       "       [ 13.3302792 ,  14.34699591],\n",
       "       [ 13.05002153,  14.68726189],\n",
       "       [ 13.77642647,  14.23618564],\n",
       "       [ 15.17426585,  15.50957491],\n",
       "       [ 14.21251759,  15.08270517],\n",
       "       [ 13.82089483,  15.61146316],\n",
       "       [ 14.12355955,  14.95509754],\n",
       "       [ 14.54752171,  14.85861945],\n",
       "       [ 14.09944359,  16.031312  ],\n",
       "       [ 14.5773018 ,  14.25667659],\n",
       "       [ 14.52331832,  14.23004999],\n",
       "       [ 14.30044704,  15.26643299],\n",
       "       [ 14.55839286,  15.48691914],\n",
       "       [ 14.22494187,  15.86117827],\n",
       "       [ 12.04029344,  13.3448335 ],\n",
       "       [ 13.07931049,   9.34787812],\n",
       "       [ 21.72713402,   4.12623222],\n",
       "       [ 12.47662882,  14.45936967],\n",
       "       [ 19.58257277,  10.411619  ],\n",
       "       [ 23.33986753,  16.29887355],\n",
       "       [ 18.26118844,  17.978309  ],\n",
       "       [  4.75261282,  24.35040725]])"
      ]
     },
     "execution_count": 92,
     "metadata": {},
     "output_type": "execute_result"
    }
   ],
   "source": [
    "data = loadmat('ex8data1.mat')\n",
    "X = data['X']\n",
    "X"
   ]
  },
  {
   "cell_type": "code",
   "execution_count": 3,
   "metadata": {},
   "outputs": [
    {
     "data": {
      "image/png": "[encoded data removed]",
      "text/plain": [
       "<matplotlib.figure.Figure at 0x1e3de88bb70>"
      ]
     },
     "metadata": {},
     "output_type": "display_data"
    }
   ],
   "source": [
    "fig, ax = plt.subplots(figsize=(10, 8))\n",
    "ax.scatter(X[:, 0], X[:, 1])\n",
    "plt.show()"
   ]
  },
  {
   "cell_type": "markdown",
   "metadata": {},
   "source": [
    "可以较为清晰的看到异常的点"
   ]
  },
  {
   "cell_type": "markdown",
   "metadata": {},
   "source": [
    "### 1.1 gaussian distribution"
   ]
  },
  {
   "cell_type": "markdown",
   "metadata": {},
   "source": [
    "$p\\left( x;\\mu ,\\sigma ^{2}\\right) =\\dfrac {1}{\\sqrt {2\\pi \\sigma ^{2}}}e^{-\\dfrac {\\left( x-\\mu \\right) ^{2}}{2\\sigma ^{2}}}$"
   ]
  },
  {
   "cell_type": "markdown",
   "metadata": {},
   "source": [
    "### 1.2 estimating parameters for a gaussian"
   ]
  },
  {
   "cell_type": "markdown",
   "metadata": {},
   "source": [
    "$\\mu _{i}=\\dfrac {1}{m}\\sum ^{m}_{j=1}x^{\\left( j\\right) }_{i}$\n",
    "\n",
    "$\\sigma ^{2}_{i}=\\dfrac {1}{m}\\sum ^{m}_{j=1}\\left( x_{i}\\left( j\\right) -\\mu _{i}\\right) ^{2}$"
   ]
  },
  {
   "cell_type": "code",
   "execution_count": 7,
   "metadata": {
    "collapsed": true
   },
   "outputs": [],
   "source": [
    "def estimate_gaussian(X):\n",
    "    mu = X.mean(axis=0)\n",
    "    sigma = X.std(axis=0)\n",
    "    \n",
    "    return mu, sigma"
   ]
  },
  {
   "cell_type": "code",
   "execution_count": 93,
   "metadata": {},
   "outputs": [
    {
     "data": {
      "text/plain": [
       "(array([ 14.11222578,  14.99771051]), array([ 1.35374717,  1.3075723 ]))"
      ]
     },
     "execution_count": 93,
     "metadata": {},
     "output_type": "execute_result"
    }
   ],
   "source": [
    "mu, sigma = estimate_gaussian(X)\n",
    "mu, sigma"
   ]
  },
  {
   "cell_type": "markdown",
   "metadata": {},
   "source": [
    "### 1.3 selecting the threshold"
   ]
  },
  {
   "cell_type": "markdown",
   "metadata": {},
   "source": [
    "根据阈值判断可能性，可能性的小的更有可能是异常点"
   ]
  },
  {
   "cell_type": "code",
   "execution_count": 88,
   "metadata": {},
   "outputs": [
    {
     "data": {
      "text/plain": [
       "((307, 2), (307, 1))"
      ]
     },
     "execution_count": 88,
     "metadata": {},
     "output_type": "execute_result"
    }
   ],
   "source": [
    "# 已有数据集\n",
    "Xval = data['Xval']\n",
    "yval = data['yval']\n",
    "\n",
    "Xval.shape, yval.shape"
   ]
  },
  {
   "cell_type": "markdown",
   "metadata": {},
   "source": [
    "计算概率密度"
   ]
  },
  {
   "cell_type": "code",
   "execution_count": 12,
   "metadata": {
    "collapsed": true
   },
   "outputs": [],
   "source": [
    "def compute_probability(mu, sigma, X):\n",
    "    p = 1 / np.sqrt(2 * np.pi * sigma ** 2)\n",
    "    exp = np.exp(-(X - mu)**2/(2*sigma**2))\n",
    "    p = p * exp\n",
    "    return p"
   ]
  },
  {
   "cell_type": "code",
   "execution_count": 18,
   "metadata": {},
   "outputs": [
    {
     "data": {
      "text/plain": [
       "0.23767635105892451"
      ]
     },
     "execution_count": 18,
     "metadata": {},
     "output_type": "execute_result"
    }
   ],
   "source": [
    "compute_probability(mu[0], sigma[0], 15)"
   ]
  },
  {
   "cell_type": "markdown",
   "metadata": {},
   "source": [
    "也可以传入数据，计算数据集中每个点的概率密度"
   ]
  },
  {
   "cell_type": "code",
   "execution_count": 21,
   "metadata": {},
   "outputs": [
    {
     "data": {
      "text/plain": [
       "array([ 0.21620977,  0.25745208,  0.29413223,  0.24721192,  0.27251547,\n",
       "        0.2918119 ,  0.18713958,  0.15117648,  0.09356331,  0.166609  ])"
      ]
     },
     "execution_count": 21,
     "metadata": {},
     "output_type": "execute_result"
    }
   ],
   "source": [
    "compute_probability(mu[0], sigma[0], X[:, 0])[:10]"
   ]
  },
  {
   "cell_type": "markdown",
   "metadata": {},
   "source": [
    "保存概率密度值"
   ]
  },
  {
   "cell_type": "code",
   "execution_count": 46,
   "metadata": {},
   "outputs": [
    {
     "data": {
      "text/plain": [
       "(307, 1)"
      ]
     },
     "execution_count": 46,
     "metadata": {},
     "output_type": "execute_result"
    }
   ],
   "source": [
    "m, n = X.shape\n",
    "p = np.zeros((m, 1))\n",
    "p = compute_probability(mu[0], sigma[0], X[:, 0]) * compute_probability(mu[1], sigma[1], X[:, 1])\n",
    "p = p.reshape((m, 1))\n",
    "p.shape"
   ]
  },
  {
   "cell_type": "markdown",
   "metadata": {},
   "source": [
    "计算验证集概率密度值"
   ]
  },
  {
   "cell_type": "code",
   "execution_count": 94,
   "metadata": {
    "collapsed": true
   },
   "outputs": [],
   "source": [
    "pval = np.zeros((m, 1))\n",
    "pval = compute_probability(mu[0], sigma[0], Xval[:, 0]) * compute_probability(mu[1], sigma[1], Xval[:, 1])\n",
    "pval = pval.reshape((m, 1))"
   ]
  },
  {
   "cell_type": "markdown",
   "metadata": {},
   "source": [
    "阈值的选择是根据 F1-score 来判断的\n",
    "\n",
    "$F_{1}=\\dfrac {2\\cdot prec\\cdot rec}{prec+rec}$\n",
    "\n",
    "$prec=\\dfrac {tp}{tp+fp}$\n",
    "\n",
    "$rec=\\dfrac {tp}{tp+fn}$"
   ]
  },
  {
   "cell_type": "code",
   "execution_count": 66,
   "metadata": {
    "collapsed": true
   },
   "outputs": [],
   "source": [
    "def select_threshold(pval, yval):\n",
    "    best_epison = 0\n",
    "    best_f1 = 0\n",
    "    f1 = 0\n",
    "    \n",
    "    step = (pval.max() - pval.min()) / 1000\n",
    "    \n",
    "    for epsilon in np.arange(pval.min(), pval.max(), step):\n",
    "        preds = pval < epsilon\n",
    "        tp = np.sum(np.logical_and(preds == 1, yval == 1)).astype(float)\n",
    "        fp = np.sum(np.logical_and(preds == 1, yval == 0)).astype(float)\n",
    "        fn = np.sum(np.logical_and(preds == 0, yval == 1)).astype(float)\n",
    "        \n",
    "        precision = tp / (tp + fp)\n",
    "        recall = tp / (tp + fn)\n",
    "        f1 = (2 * precision * recall) / (precision + recall)\n",
    "        \n",
    "        if f1 > best_f1:\n",
    "            best_f1 = f1\n",
    "            best_epison = epsilon\n",
    "    return best_epison, best_f1"
   ]
  },
  {
   "cell_type": "code",
   "execution_count": 95,
   "metadata": {},
   "outputs": [
    {
     "name": "stderr",
     "output_type": "stream",
     "text": [
      "E:\\Anaconda3\\lib\\site-packages\\ipykernel_launcher.py:14: RuntimeWarning: invalid value encountered in double_scalars\n",
      "  \n"
     ]
    },
    {
     "data": {
      "text/plain": [
       "(8.9908527792694918e-05, 0.87500000000000011)"
      ]
     },
     "execution_count": 95,
     "metadata": {},
     "output_type": "execute_result"
    }
   ],
   "source": [
    "epsilon, f1 = select_threshold(pval, yval)\n",
    "epsilon, f1"
   ]
  },
  {
   "cell_type": "code",
   "execution_count": 68,
   "metadata": {},
   "outputs": [
    {
     "data": {
      "text/plain": [
       "(array([300, 301, 303, 304, 305, 306], dtype=int64),\n",
       " array([0, 0, 0, 0, 0, 0], dtype=int64))"
      ]
     },
     "execution_count": 68,
     "metadata": {},
     "output_type": "execute_result"
    }
   ],
   "source": [
    "outliers = np.where(p < epsilon)\n",
    "outliers"
   ]
  },
  {
   "cell_type": "code",
   "execution_count": 70,
   "metadata": {},
   "outputs": [
    {
     "data": {
      "image/png": "[encoded data removed]",
      "text/plain": [
       "<matplotlib.figure.Figure at 0x1e3e0047e80>"
      ]
     },
     "metadata": {},
     "output_type": "display_data"
    }
   ],
   "source": [
    "fig, ax = plt.subplots(figsize=(10, 8))\n",
    "ax.scatter(X[:, 0], X[:, 1], label='Normal')\n",
    "ax.scatter(X[outliers[0], 0], X[outliers[0], 1], c='r', label='Anomaly')\n",
    "plt.legend(loc='best')\n",
    "plt.show()"
   ]
  },
  {
   "cell_type": "markdown",
   "metadata": {},
   "source": [
    "可以很清楚的看出异常值"
   ]
  },
  {
   "cell_type": "markdown",
   "metadata": {},
   "source": [
    "### 1.4 high dimensioanl dataset"
   ]
  },
  {
   "cell_type": "markdown",
   "metadata": {},
   "source": [
    "对于高维的数据，高斯分布也变得复杂，需要计算协方差矩阵，除此之外，解决思路与上面是一致的。"
   ]
  },
  {
   "cell_type": "code",
   "execution_count": 100,
   "metadata": {},
   "outputs": [
    {
     "data": {
      "text/plain": [
       "((1000, 11), (100, 11), (100, 1))"
      ]
     },
     "execution_count": 100,
     "metadata": {},
     "output_type": "execute_result"
    }
   ],
   "source": [
    "data2 = loadmat('ex8data2.mat')\n",
    "X = data2['X']\n",
    "Xval = data2['Xval']\n",
    "yval = data2['yval']\n",
    "X.shape, Xval.shape, yval.shape"
   ]
  },
  {
   "cell_type": "code",
   "execution_count": 105,
   "metadata": {},
   "outputs": [
    {
     "data": {
      "text/plain": [
       "array([[ 1.001001  ,  0.02307986,  0.01161028,  0.00181935,  0.07420418,\n",
       "        -0.00720554, -0.05806921,  0.06785482, -0.02718041,  0.05961267,\n",
       "        -0.05237602],\n",
       "       [ 0.02307986,  1.001001  , -0.0399101 , -0.0688857 ,  0.02943721,\n",
       "         0.04465292,  0.02545366,  0.11043389,  0.10574457, -0.07870864,\n",
       "         0.14897379],\n",
       "       [ 0.01161028, -0.0399101 ,  1.001001  ,  0.03741508,  0.05358725,\n",
       "        -0.04684003,  0.04993521,  0.03049285,  0.17377612,  0.09159422,\n",
       "        -0.05241558],\n",
       "       [ 0.00181935, -0.0688857 ,  0.03741508,  1.001001  ,  0.02572627,\n",
       "         0.01644659,  0.0550358 ,  0.03000705, -0.08373483,  0.024796  ,\n",
       "        -0.01889772],\n",
       "       [ 0.07420418,  0.02943721,  0.05358725,  0.02572627,  1.001001  ,\n",
       "         0.01548925,  0.08986146, -0.03349427,  0.0169999 ,  0.05909549,\n",
       "        -0.00901494],\n",
       "       [-0.00720554,  0.04465292, -0.04684003,  0.01644659,  0.01548925,\n",
       "         1.001001  ,  0.03199682,  0.01501516, -0.00234088, -0.04311864,\n",
       "         0.01896565],\n",
       "       [-0.05806921,  0.02545366,  0.04993521,  0.0550358 ,  0.08986146,\n",
       "         0.03199682,  1.001001  , -0.02335753, -0.03862948, -0.02334293,\n",
       "        -0.10109782],\n",
       "       [ 0.06785482,  0.11043389,  0.03049285,  0.03000705, -0.03349427,\n",
       "         0.01501516, -0.02335753,  1.001001  ,  0.07209995, -0.01611115,\n",
       "         0.03567068],\n",
       "       [-0.02718041,  0.10574457,  0.17377612, -0.08373483,  0.0169999 ,\n",
       "        -0.00234088, -0.03862948,  0.07209995,  1.001001  , -0.01019009,\n",
       "         0.0606406 ],\n",
       "       [ 0.05961267, -0.07870864,  0.09159422,  0.024796  ,  0.05909549,\n",
       "        -0.04311864, -0.02334293, -0.01611115, -0.01019009,  1.001001  ,\n",
       "        -0.0056581 ],\n",
       "       [-0.05237602,  0.14897379, -0.05241558, -0.01889772, -0.00901494,\n",
       "         0.01896565, -0.10109782,  0.03567068,  0.0606406 , -0.0056581 ,\n",
       "         1.001001  ]])"
      ]
     },
     "execution_count": 105,
     "metadata": {},
     "output_type": "execute_result"
    }
   ],
   "source": [
    "# 计算协方差矩阵\n",
    "X = np.mat((X - X.mean(axis=0)) / X.std(axis=0))\n",
    "sigma = np.cov(X.T)\n",
    "sigma"
   ]
  },
  {
   "cell_type": "code",
   "execution_count": 106,
   "metadata": {},
   "outputs": [
    {
     "data": {
      "text/plain": [
       "matrix([[ -7.81597009e-17,  -1.43884904e-16,   3.19744231e-17,\n",
       "          -2.84217094e-16,   3.41948692e-17,  -4.08562073e-17,\n",
       "           8.26005930e-17,  -3.19744231e-17,  -1.00364161e-16,\n",
       "          -3.55271368e-17,   1.82076576e-17]])"
      ]
     },
     "execution_count": 106,
     "metadata": {},
     "output_type": "execute_result"
    }
   ],
   "source": [
    "mu = X.mean(axis=0)\n",
    "mu"
   ]
  },
  {
   "cell_type": "code",
   "execution_count": 124,
   "metadata": {
    "collapsed": true
   },
   "outputs": [],
   "source": [
    "def compute_multi_probability(mu, sigma, X):\n",
    "    m, n = X.shape\n",
    "    p = 1 / ((2 * np.pi)**(n/2)*(np.linalg.norm(sigma)**0.5))\n",
    "    exp = np.exp(-1/2*(X-mu) * np.mat(sigma).I * (X - mu).T)\n",
    "    p = p * exp\n",
    "    return p"
   ]
  },
  {
   "cell_type": "code",
   "execution_count": 125,
   "metadata": {},
   "outputs": [
    {
     "data": {
      "text/plain": [
       "(1000, 1000)"
      ]
     },
     "execution_count": 125,
     "metadata": {},
     "output_type": "execute_result"
    }
   ],
   "source": [
    "p = compute_multi_probability(mu, sigma, X)\n",
    "p.shape"
   ]
  },
  {
   "cell_type": "markdown",
   "metadata": {},
   "source": [
    "这个地方还有点问题，之后处理。"
   ]
  },
  {
   "cell_type": "markdown",
   "metadata": {},
   "source": [
    "## 2. recommender systems"
   ]
  },
  {
   "cell_type": "markdown",
   "metadata": {},
   "source": [
    "### 2.1 movie ratings dataset"
   ]
  },
  {
   "cell_type": "code",
   "execution_count": 2,
   "metadata": {},
   "outputs": [
    {
     "data": {
      "text/plain": [
       "{'R': array([[1, 1, 0, ..., 1, 0, 0],\n",
       "        [1, 0, 0, ..., 0, 0, 1],\n",
       "        [1, 0, 0, ..., 0, 0, 0],\n",
       "        ..., \n",
       "        [0, 0, 0, ..., 0, 0, 0],\n",
       "        [0, 0, 0, ..., 0, 0, 0],\n",
       "        [0, 0, 0, ..., 0, 0, 0]], dtype=uint8),\n",
       " 'Y': array([[5, 4, 0, ..., 5, 0, 0],\n",
       "        [3, 0, 0, ..., 0, 0, 5],\n",
       "        [4, 0, 0, ..., 0, 0, 0],\n",
       "        ..., \n",
       "        [0, 0, 0, ..., 0, 0, 0],\n",
       "        [0, 0, 0, ..., 0, 0, 0],\n",
       "        [0, 0, 0, ..., 0, 0, 0]], dtype=uint8),\n",
       " '__globals__': [],\n",
       " '__header__': b'MATLAB 5.0 MAT-file, Platform: GLNXA64, Created on: Thu Dec  1 17:19:26 2011',\n",
       " '__version__': '1.0'}"
      ]
     },
     "execution_count": 2,
     "metadata": {},
     "output_type": "execute_result"
    }
   ],
   "source": [
    "data = loadmat('ex8_movies.mat')\n",
    "data"
   ]
  },
  {
   "cell_type": "markdown",
   "metadata": {},
   "source": [
    "Y是包含从1到5的电影评分，电影的数量*用户的数量，R是用户是否打分的矩阵，R(i, j)=1表示用户j对于电影i打分了"
   ]
  },
  {
   "cell_type": "code",
   "execution_count": 3,
   "metadata": {},
   "outputs": [
    {
     "data": {
      "text/plain": [
       "((1682, 943), (1682, 943))"
      ]
     },
     "execution_count": 3,
     "metadata": {},
     "output_type": "execute_result"
    }
   ],
   "source": [
    "Y = data['Y']\n",
    "R = data['R']\n",
    "Y.shape, R.shape"
   ]
  },
  {
   "cell_type": "code",
   "execution_count": 7,
   "metadata": {},
   "outputs": [
    {
     "data": {
      "text/plain": [
       "3.2061068702290076"
      ]
     },
     "execution_count": 7,
     "metadata": {},
     "output_type": "execute_result"
    }
   ],
   "source": [
    "# 查看电影平均值\n",
    "Y[1, R[1, :] == 1].mean()"
   ]
  },
  {
   "cell_type": "code",
   "execution_count": 9,
   "metadata": {},
   "outputs": [
    {
     "data": {
      "image/png": "[encoded data removed]",
      "text/plain": [
       "<matplotlib.figure.Figure at 0x1b1fb5885c0>"
      ]
     },
     "metadata": {},
     "output_type": "display_data"
    }
   ],
   "source": [
    "# 可视化\n",
    "fig, ax = plt.subplots(figsize=(10, 8))\n",
    "ax.imshow(Y, cmap='gray')\n",
    "plt.xlabel('Users')\n",
    "plt.ylabel('Movies')\n",
    "plt.show()"
   ]
  },
  {
   "cell_type": "markdown",
   "metadata": {},
   "source": [
    "### 2.2 collaborative filtering learning algorithm"
   ]
  },
  {
   "cell_type": "markdown",
   "metadata": {},
   "source": [
    "#### 2.2.1 collaborative filtering cost function"
   ]
  },
  {
   "cell_type": "code",
   "execution_count": 33,
   "metadata": {
    "collapsed": true
   },
   "outputs": [],
   "source": [
    "def cost(params, Y, R, num_features):\n",
    "    Y = np.mat(Y) # (1682, 943)\n",
    "    R = np.mat(R) # (1682, 943)\n",
    "    num_movies, num_users = Y.shape\n",
    "    \n",
    "    X = params[:num_movies * num_features].reshape((num_movies, num_features)) # (1682, features)\n",
    "    Theta = params[num_movies * num_features:].reshape((num_users, num_features)) # (943. features)\n",
    "    Theta = np.mat(Theta)\n",
    "    \n",
    "    J =  0\n",
    "    \n",
    "    # compute error\n",
    "    error = np.multiply(((X * Theta.T) - Y), R)\n",
    "    squared_error = np.power(error, 2)\n",
    "    J = (1 / 2) * np.sum(squared_error)\n",
    "    \n",
    "    return J"
   ]
  },
  {
   "cell_type": "code",
   "execution_count": 15,
   "metadata": {},
   "outputs": [
    {
     "data": {
      "text/plain": [
       "((1682, 10), (943, 10))"
      ]
     },
     "execution_count": 15,
     "metadata": {},
     "output_type": "execute_result"
    }
   ],
   "source": [
    "params_data = loadmat('ex8_movieParams.mat')\n",
    "X = params_data['X']\n",
    "Theta = params_data['Theta']\n",
    "X.shape, Theta.shape"
   ]
  },
  {
   "cell_type": "markdown",
   "metadata": {},
   "source": [
    "简单验证一下"
   ]
  },
  {
   "cell_type": "code",
   "execution_count": 34,
   "metadata": {},
   "outputs": [
    {
     "data": {
      "text/plain": [
       "22.224603725685675"
      ]
     },
     "execution_count": 34,
     "metadata": {},
     "output_type": "execute_result"
    }
   ],
   "source": [
    "users = 4\n",
    "movies = 5\n",
    "features = 3\n",
    "\n",
    "X_sub = X[:movies, :features]\n",
    "Theta_sub = Theta[:users, :features]\n",
    "Y_sub = Y[:movies, :users]\n",
    "R_sub = R[:movies, :users]\n",
    "\n",
    "params = np.concatenate((np.ravel(X_sub), np.ravel(Theta_sub)))\n",
    "cost(params, Y_sub, R_sub, features)"
   ]
  },
  {
   "cell_type": "markdown",
   "metadata": {},
   "source": [
    "#### 2.2.2 collaborative filtering gradient"
   ]
  },
  {
   "cell_type": "code",
   "execution_count": 35,
   "metadata": {
    "collapsed": true
   },
   "outputs": [],
   "source": [
    "def gradient(params, Y, R, num_features):\n",
    "    Y = np.mat(Y) # (1682, 943)\n",
    "    R = np.mat(R) # (1682, 943)\n",
    "    num_movies, num_users = Y.shape\n",
    "    \n",
    "    X = params[:num_movies * num_features].reshape((num_movies, num_features)) # (1682, features)\n",
    "    Theta = params[num_movies * num_features:].reshape((num_users, num_features)) # (943. features)\n",
    "    Theta = np.mat(Theta)\n",
    "    \n",
    "    J =  0\n",
    "    \n",
    "    # compute error\n",
    "    error = np.multiply(((X * Theta.T) - Y), R) # (1682, 943)\n",
    "    squared_error = np.power(error, 2)\n",
    "    J = (1 / 2) * np.sum(squared_error)\n",
    "    \n",
    "    # calculate the gradient\n",
    "    X_grad = error * Theta # (1682, features)\n",
    "    Theta_grad = error.T * X # (943, features)\n",
    "    \n",
    "    grad = np.concatenate((np.ravel(X_grad), np.ravel(Theta_grad)))\n",
    "    \n",
    "    return J, grad"
   ]
  },
  {
   "cell_type": "code",
   "execution_count": 37,
   "metadata": {},
   "outputs": [
    {
     "data": {
      "text/plain": [
       "(22.224603725685675,\n",
       " array([ -2.52899165,   7.57570308,  -1.89979026,  -0.56819597,\n",
       "          3.35265031,  -0.52339845,  -0.83240713,   4.91163297,\n",
       "         -0.76677878,  -0.38358278,   2.26333698,  -0.35334048,\n",
       "         -0.80378006,   4.74271842,  -0.74040871, -10.5680202 ,\n",
       "          4.62776019,  -7.16004443,  -3.05099006,   1.16441367,\n",
       "         -3.47410789,   0.        ,   0.        ,   0.        ,\n",
       "          0.        ,   0.        ,   0.        ]))"
      ]
     },
     "execution_count": 37,
     "metadata": {},
     "output_type": "execute_result"
    }
   ],
   "source": [
    "J, grad = gradient(params, Y_sub, R_sub, features)\n",
    "J, grad"
   ]
  },
  {
   "cell_type": "markdown",
   "metadata": {},
   "source": [
    "#### 2.2.3 regularized cost function"
   ]
  },
  {
   "cell_type": "code",
   "execution_count": 38,
   "metadata": {
    "collapsed": true
   },
   "outputs": [],
   "source": [
    "def gradient_regularized(params, Y, R, num_features, learning_rate=1):\n",
    "    Y = np.mat(Y) # (1682, 943)\n",
    "    R = np.mat(R) # (1682, 943)\n",
    "    num_movies, num_users = Y.shape\n",
    "    \n",
    "    X = params[:num_movies * num_features].reshape((num_movies, num_features)) # (1682, features)\n",
    "    Theta = params[num_movies * num_features:].reshape((num_users, num_features)) # (943. features)\n",
    "    Theta = np.mat(Theta)\n",
    "    \n",
    "    J =  0\n",
    "    \n",
    "    # compute error\n",
    "    error = np.multiply(((X * Theta.T) - Y), R) # (1682, 943)\n",
    "    squared_error = np.power(error, 2)\n",
    "    J = (1 / 2) * np.sum(squared_error)\n",
    "    \n",
    "    # add regularization\n",
    "    J = J + ((learning_rate/2) * np.sum(np.power(Theta, 2))) + ((learning_rate/2) * np.sum(np.power(X, 2)))\n",
    "    \n",
    "    # calculate the gradient\n",
    "    X_grad = error * Theta + (learning_rate * X) # (1682, features)\n",
    "    Theta_grad = error.T * X + (learning_rate * Theta) # (943, features)\n",
    "    \n",
    "    grad = np.concatenate((np.ravel(X_grad), np.ravel(Theta_grad)))\n",
    "    \n",
    "    return J, grad"
   ]
  },
  {
   "cell_type": "code",
   "execution_count": 39,
   "metadata": {},
   "outputs": [
    {
     "data": {
      "text/plain": [
       "(31.344056244274221,\n",
       " array([ -0.95596339,   6.97535514,  -0.10861109,   0.60308088,\n",
       "          2.77421145,   0.25839822,   0.12985616,   4.0898522 ,\n",
       "         -0.89247334,   0.29684395,   1.06300933,   0.66738144,\n",
       "          0.60252677,   4.90185327,  -0.19747928, -10.13985478,\n",
       "          2.10136256,  -6.76563628,  -2.29347024,   0.48244098,\n",
       "         -2.99791422,  -0.64787484,  -0.71820673,   1.27006666,\n",
       "          1.09289758,  -0.40784086,   0.49026541]))"
      ]
     },
     "execution_count": 39,
     "metadata": {},
     "output_type": "execute_result"
    }
   ],
   "source": [
    "J, grad = gradient_regularized(params, Y_sub, R_sub, features, 1.5)\n",
    "J, grad"
   ]
  },
  {
   "cell_type": "markdown",
   "metadata": {},
   "source": [
    "### 2.3 learing movie recommendations"
   ]
  },
  {
   "cell_type": "markdown",
   "metadata": {},
   "source": [
    "训练自己的模型"
   ]
  },
  {
   "cell_type": "markdown",
   "metadata": {},
   "source": [
    "#### 2.3.1 recommendations"
   ]
  },
  {
   "cell_type": "code",
   "execution_count": 46,
   "metadata": {},
   "outputs": [],
   "source": [
    "movie_idx = {}\n",
    "with open('movie_ids.txt', encoding='utf8') as f:\n",
    "    for line in f:\n",
    "        tokens = line.strip().split(' ')\n",
    "        movie_idx[int(tokens[0])-1] = ' '.join(tokens[1:])"
   ]
  },
  {
   "cell_type": "code",
   "execution_count": 45,
   "metadata": {},
   "outputs": [
    {
     "data": {
      "text/plain": [
       "'Toy Story (1995)'"
      ]
     },
     "execution_count": 45,
     "metadata": {},
     "output_type": "execute_result"
    }
   ],
   "source": [
    "movie_idx[0]"
   ]
  },
  {
   "cell_type": "code",
   "execution_count": 49,
   "metadata": {},
   "outputs": [
    {
     "name": "stdout",
     "output_type": "stream",
     "text": [
      "Rated Toy Story (1995) with 4 stars.\n",
      "Rated Twelve Monkeys (1995) with 3 stars.\n",
      "Rated Usual Suspects, The (1995) with 5 stars.\n",
      "Rated Outbreak (1995) with 4 stars.\n",
      "Rated Shawshank Redemption, The (1994) with 5 stars.\n",
      "Rated While You Were Sleeping (1995) with 3 stars.\n",
      "Rated Forrest Gump (1994) with 5 stars.\n",
      "Rated Silence of the Lambs, The (1991) with 2 stars.\n",
      "Rated Alien (1979) with 4 stars.\n",
      "Rated Die Hard 2 (1990) with 5 stars.\n",
      "Rated Sphere (1998) with 5 stars.\n"
     ]
    }
   ],
   "source": [
    "# 添加新的用户\n",
    "ratings = np.zeros((1682, 1))\n",
    "\n",
    "ratings[0] = 4\n",
    "ratings[6] = 3\n",
    "ratings[11] = 5\n",
    "ratings[53] = 4\n",
    "ratings[63] = 5\n",
    "ratings[65] = 3\n",
    "ratings[68] = 5\n",
    "ratings[97] = 2\n",
    "ratings[182] = 4\n",
    "ratings[225] = 5\n",
    "ratings[354] = 5\n",
    "\n",
    "print('Rated {0} with {1} stars.'.format(movie_idx[0], str(int(ratings[0]))))\n",
    "print('Rated {0} with {1} stars.'.format(movie_idx[6], str(int(ratings[6]))))\n",
    "print('Rated {0} with {1} stars.'.format(movie_idx[11], str(int(ratings[11]))))\n",
    "print('Rated {0} with {1} stars.'.format(movie_idx[53], str(int(ratings[53]))))\n",
    "print('Rated {0} with {1} stars.'.format(movie_idx[63], str(int(ratings[63]))))\n",
    "print('Rated {0} with {1} stars.'.format(movie_idx[65], str(int(ratings[65]))))\n",
    "print('Rated {0} with {1} stars.'.format(movie_idx[68], str(int(ratings[68]))))\n",
    "print('Rated {0} with {1} stars.'.format(movie_idx[97], str(int(ratings[97]))))\n",
    "print('Rated {0} with {1} stars.'.format(movie_idx[182], str(int(ratings[182]))))\n",
    "print('Rated {0} with {1} stars.'.format(movie_idx[225], str(int(ratings[225]))))\n",
    "print('Rated {0} with {1} stars.'.format(movie_idx[354], str(int(ratings[354]))))"
   ]
  },
  {
   "cell_type": "code",
   "execution_count": 52,
   "metadata": {},
   "outputs": [
    {
     "data": {
      "text/plain": [
       "((1682, 944), (1682, 944))"
      ]
     },
     "execution_count": 52,
     "metadata": {},
     "output_type": "execute_result"
    }
   ],
   "source": [
    "# 将新的用户评分添加到已有数据集\n",
    "R = data['R']\n",
    "Y = data['Y']\n",
    "\n",
    "Y = np.append(Y, ratings, axis=1)\n",
    "R = np.append(R, ratings != 0, axis=1)\n",
    "\n",
    "Y.shape, R.shape"
   ]
  },
  {
   "cell_type": "code",
   "execution_count": 61,
   "metadata": {},
   "outputs": [
    {
     "data": {
      "text/plain": [
       "((1682, 10), (944, 10), (26260,))"
      ]
     },
     "execution_count": 61,
     "metadata": {},
     "output_type": "execute_result"
    }
   ],
   "source": [
    "movies, users = Y.shape\n",
    "features = 10\n",
    "learning_rate = 10\n",
    "\n",
    "# random initialization\n",
    "X = np.random.random(size=(movies, features))\n",
    "Theta = np.random.random(size=(users, features))\n",
    "params = np.concatenate((np.ravel(X), np.ravel(Theta)))\n",
    "\n",
    "X.shape, Theta.shape, params.shape"
   ]
  },
  {
   "cell_type": "code",
   "execution_count": 56,
   "metadata": {},
   "outputs": [
    {
     "data": {
      "text/plain": [
       "5.0119905180683824e-19"
      ]
     },
     "execution_count": 56,
     "metadata": {},
     "output_type": "execute_result"
    }
   ],
   "source": [
    "# normalize\n",
    "Ynorm = (Y - Y.mean(axis=0)) \n",
    "Ynorm.mean()"
   ]
  },
  {
   "cell_type": "code",
   "execution_count": 69,
   "metadata": {},
   "outputs": [
    {
     "data": {
      "text/plain": [
       "     fun: 72071.41134473274\n",
       "     jac: array([-0.59632776, -0.76286578, -0.58230447, ..., -0.01088016,\n",
       "        0.03178611,  0.05723129])\n",
       " message: 'Maximum number of iterations has been exceeded.'\n",
       "    nfev: 152\n",
       "     nit: 100\n",
       "    njev: 152\n",
       "  status: 1\n",
       " success: False\n",
       "       x: array([ 0.73055022,  0.43549434,  1.13617841, ...,  0.48325653,\n",
       "        0.63215647,  0.30210906])"
      ]
     },
     "execution_count": 69,
     "metadata": {},
     "output_type": "execute_result"
    }
   ],
   "source": [
    "from scipy.optimize import minimize\n",
    "\n",
    "fmin = minimize(fun=gradient_regularized, x0=params, args=(Y, R, features, learning_rate), \n",
    "                method='CG', jac=True, options={'maxiter': 100})\n",
    "fmin"
   ]
  },
  {
   "cell_type": "code",
   "execution_count": 70,
   "metadata": {},
   "outputs": [
    {
     "data": {
      "text/plain": [
       "((1682, 10), (944, 10))"
      ]
     },
     "execution_count": 70,
     "metadata": {},
     "output_type": "execute_result"
    }
   ],
   "source": [
    "X = np.mat(fmin.x[:movies * features].reshape((movies, features)))\n",
    "Theta = np.mat(fmin.x[movies * features:].reshape((users, features)))\n",
    "\n",
    "X.shape, Theta.shape"
   ]
  },
  {
   "cell_type": "code",
   "execution_count": 75,
   "metadata": {},
   "outputs": [
    {
     "data": {
      "text/plain": [
       "matrix([[ 4.14882282],\n",
       "        [ 4.03791811],\n",
       "        [ 3.95034514],\n",
       "        ..., \n",
       "        [ 0.0897363 ],\n",
       "        [ 0.08973625],\n",
       "        [ 0.08973436]])"
      ]
     },
     "execution_count": 75,
     "metadata": {},
     "output_type": "execute_result"
    }
   ],
   "source": [
    "# 推荐\n",
    "prediections = X * Theta.T\n",
    "my_preds = prediections[:, -1]\n",
    "\n",
    "sorted_preds = np.sort(my_preds, axis=0)[::-1]\n",
    "sorted_preds"
   ]
  },
  {
   "cell_type": "code",
   "execution_count": 76,
   "metadata": {},
   "outputs": [
    {
     "name": "stdout",
     "output_type": "stream",
     "text": [
      "Top 10 movie predictions:\n",
      "Predicted rating of 4.148822815923305 for movie Titanic (1997).\n",
      "Predicted rating of 4.037918105844523 for movie Star Wars (1977).\n",
      "Predicted rating of 3.950345139928065 for movie Raiders of the Lost Ark (1981).\n",
      "Predicted rating of 3.9306200875154778 for movie Shawshank Redemption, The (1994).\n",
      "Predicted rating of 3.865665302509749 for movie Braveheart (1995).\n",
      "Predicted rating of 3.8220231918541296 for movie Return of the Jedi (1983).\n",
      "Predicted rating of 3.8183257525766034 for movie Good Will Hunting (1997).\n",
      "Predicted rating of 3.7604513729659583 for movie Empire Strikes Back, The (1980).\n",
      "Predicted rating of 3.745113855628458 for movie Schindler's List (1993).\n",
      "Predicted rating of 3.7207238840698547 for movie As Good As It Gets (1997).\n"
     ]
    }
   ],
   "source": [
    "# 其实需要的是索引\n",
    "idx = np.argsort(my_preds, axis=0)[::-1]\n",
    "print(\"Top 10 movie predictions:\")\n",
    "for i in range(10):\n",
    "    j = int(idx[i])\n",
    "    print('Predicted rating of {0} for movie {1}.'.format(str(float(my_preds[j])), movie_idx[j]))"
   ]
  },
  {
   "cell_type": "code",
   "execution_count": null,
   "metadata": {
    "collapsed": true
   },
   "outputs": [],
   "source": []
  }
 ],
 "metadata": {
  "kernelspec": {
   "display_name": "Python 3",
   "language": "python",
   "name": "python3"
  },
  "language_info": {
   "codemirror_mode": {
    "name": "ipython",
    "version": 3
   },
   "file_extension": ".py",
   "mimetype": "text/x-python",
   "name": "python",
   "nbconvert_exporter": "python",
   "pygments_lexer": "ipython3",
   "version": "3.6.3"
  }
 },
 "nbformat": 4,
 "nbformat_minor": 2
}
